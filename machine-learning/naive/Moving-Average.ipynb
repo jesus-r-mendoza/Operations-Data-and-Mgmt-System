{
 "cells": [
  {
   "cell_type": "markdown",
   "metadata": {},
   "source": [
    "# Naive approaches to forcasting as baseline"
   ]
  },
  {
   "cell_type": "markdown",
   "metadata": {},
   "source": [
    "### Importing packages that'll be used"
   ]
  },
  {
   "cell_type": "code",
   "execution_count": 1,
   "metadata": {},
   "outputs": [],
   "source": [
    "import os\n",
    "import pandas as pd\n",
    "import matplotlib.pyplot as plt\n",
    "from datetime import datetime\n",
    "import statistics"
   ]
  },
  {
   "cell_type": "markdown",
   "metadata": {},
   "source": [
    "### Reading the data as series objects from the generated csv files"
   ]
  },
  {
   "cell_type": "code",
   "execution_count": 2,
   "metadata": {},
   "outputs": [
    {
     "name": "stdout",
     "output_type": "stream",
     "text": [
      "Battery1_telemetryOutputData_2020_02_05_15_48_33.csv\n",
      "Battery2_telemetryOutputData_2020_02_05_15_48_33.csv\n",
      "CmdRcv_telemetryOutputData_2020_02_05_15_48_33.csv\n",
      "RSSI1_telemetryOutputData_2020_02_05_15_48_33.csv\n",
      "RSSI2_telemetryOutputData_2020_02_05_15_48_33.csv\n",
      "TlmTx_telemetryOutputData_2020_02_05_15_48_33.csv\n",
      "\n",
      "There are 6 csv files with data\n"
     ]
    }
   ],
   "source": [
    "basedir = '../../../tlm-data/train/generated/'\n",
    "data_files = []\n",
    "with os.scandir(basedir) as dir:\n",
    "    for item in dir:\n",
    "        if item.is_file() and item.name[-4:] == '.csv':\n",
    "            data_files.append(item.name)\n",
    "            \n",
    "print(*data_files, sep='\\n')\n",
    "print(f'\\nThere are {len(data_files)} csv files with data')"
   ]
  },
  {
   "cell_type": "code",
   "execution_count": 3,
   "metadata": {},
   "outputs": [],
   "source": [
    "def read_to_series():\n",
    "    series = []\n",
    "    for csv in data_files:\n",
    "        s = pd.Series.from_csv(f'{basedir}{csv}')\n",
    "        series.append(s)\n",
    "        print(csv)\n",
    "        print(s.head())\n",
    "        print()\n",
    "    return series   "
   ]
  },
  {
   "cell_type": "code",
   "execution_count": 4,
   "metadata": {},
   "outputs": [
    {
     "name": "stdout",
     "output_type": "stream",
     "text": [
      "Battery1_telemetryOutputData_2020_02_05_15_48_33.csv\n",
      "2020-02-05 07:48:33.520994    12.5\n",
      "2020-02-05 07:48:33.622164    11.2\n",
      "2020-02-05 07:48:33.722767    11.3\n",
      "2020-02-05 07:48:33.823252    11.7\n",
      "2020-02-05 07:48:33.923965    11.1\n",
      "dtype: float64\n",
      "\n",
      "Battery2_telemetryOutputData_2020_02_05_15_48_33.csv\n",
      "2020-02-05 07:48:33.540301    14.9\n",
      "2020-02-05 07:48:33.641321    15.8\n",
      "2020-02-05 07:48:33.742324    16.1\n",
      "2020-02-05 07:48:33.843091    10.6\n",
      "2020-02-05 07:48:33.943734    10.3\n",
      "dtype: float64\n",
      "\n",
      "CmdRcv_telemetryOutputData_2020_02_05_15_48_33.csv\n",
      "2020-02-05 07:48:33.563606    10181.8\n",
      "2020-02-05 07:48:33.665165    10402.4\n",
      "2020-02-05 07:48:33.766077     9623.3\n",
      "2020-02-05 07:48:33.867295     9602.8\n",
      "2020-02-05 07:48:33.968509    10170.6\n",
      "dtype: float64\n",
      "\n",
      "RSSI1_telemetryOutputData_2020_02_05_15_48_33.csv\n",
      "2020-02-05 07:48:33.506520   -101.7\n",
      "2020-02-05 07:48:33.607553   -109.9\n",
      "2020-02-05 07:48:33.708445   -106.7\n",
      "2020-02-05 07:48:33.809109   -100.7\n",
      "2020-02-05 07:48:33.909766   -102.2\n",
      "dtype: float64\n",
      "\n",
      "RSSI2_telemetryOutputData_2020_02_05_15_48_33.csv\n",
      "2020-02-05 07:48:33.550563   -112.8\n",
      "2020-02-05 07:48:33.651580    -90.8\n",
      "2020-02-05 07:48:33.752158    -94.0\n",
      "2020-02-05 07:48:33.852902   -118.4\n",
      "2020-02-05 07:48:33.953933    -93.6\n",
      "dtype: float64\n",
      "\n",
      "TlmTx_telemetryOutputData_2020_02_05_15_48_33.csv\n",
      "2020-02-05 07:48:33.576950    1066.1\n",
      "2020-02-05 07:48:33.678227    1045.0\n",
      "2020-02-05 07:48:33.779225     944.9\n",
      "2020-02-05 07:48:33.879779     987.9\n",
      "2020-02-05 07:48:33.981249     961.2\n",
      "dtype: float64\n",
      "\n"
     ]
    },
    {
     "name": "stderr",
     "output_type": "stream",
     "text": [
      "C:\\Programs\\Anaconda\\lib\\site-packages\\pandas\\core\\series.py:3727: FutureWarning: from_csv is deprecated. Please use read_csv(...) instead. Note that some of the default arguments are different, so please refer to the documentation for from_csv when changing your function calls\n",
      "  infer_datetime_format=infer_datetime_format)\n"
     ]
    }
   ],
   "source": [
    "series = read_to_series()"
   ]
  },
  {
   "cell_type": "markdown",
   "metadata": {},
   "source": [
    "### Very Naive forcast: Using previous known value to predict the next"
   ]
  },
  {
   "cell_type": "code",
   "execution_count": 5,
   "metadata": {},
   "outputs": [],
   "source": [
    "def prev_predict(series):\n",
    "    errors = []\n",
    "    for i in range(1, len(series)):\n",
    "        pred = series[i]\n",
    "        actual = series[i-1]\n",
    "        error = ( pred - actual ) / actual * 100\n",
    "        errors.append(error)\n",
    "        \n",
    "    print('Max error:', max(errors), '%')\n",
    "    print('Min error:', min(errors), '%')\n",
    "    print('Mean error:', statistics.mean(errors), '%')"
   ]
  },
  {
   "cell_type": "code",
   "execution_count": 6,
   "metadata": {},
   "outputs": [
    {
     "name": "stdout",
     "output_type": "stream",
     "text": [
      "Max error: 18.181818181818183 %\n",
      "Min error: -15.384615384615385 %\n",
      "Mean error: 0.23262516886965956 %\n",
      "\n",
      "Max error: 140.0 %\n",
      "Min error: -58.235294117647065 %\n",
      "Mean error: 6.46578301787709 %\n",
      "\n",
      "Max error: 10.330578512396695 %\n",
      "Min error: -9.26406348358546 %\n",
      "Mean error: 0.08358644745474526 %\n",
      "\n",
      "Max error: 9.799999999999997 %\n",
      "Min error: -8.91719745222931 %\n",
      "Mean error: 0.07694231549336326 %\n",
      "\n",
      "Max error: 32.3756906077348 %\n",
      "Min error: -24.91666666666667 %\n",
      "Mean error: 0.6794908060264219 %\n",
      "\n",
      "Max error: 14.953773382068361 %\n",
      "Min error: -12.840430510060838 %\n",
      "Mean error: 0.16138592891792855 %\n",
      "\n"
     ]
    }
   ],
   "source": [
    "for ser in series:\n",
    "    prev_predict(ser)\n",
    "    print()"
   ]
  },
  {
   "cell_type": "markdown",
   "metadata": {},
   "source": [
    "### Moving Average Forecast"
   ]
  },
  {
   "cell_type": "code",
   "execution_count": 7,
   "metadata": {},
   "outputs": [],
   "source": [
    "def moving_avg(ser, window):\n",
    "    errors = []\n",
    "    for i in range(window, len(ser)):\n",
    "        vals = ser[i-window:i]\n",
    "        avg = statistics.mean(vals)\n",
    "        pred, actual = avg, ser[i]\n",
    "        error = ( pred - actual ) / actual * 100\n",
    "        errors.append(error)\n",
    "        \n",
    "    print('Max error:', max(errors), '%')\n",
    "    print('Min error:', min(errors), '%')\n",
    "    print('Mean error:', statistics.mean(errors), '%')"
   ]
  },
  {
   "cell_type": "code",
   "execution_count": 8,
   "metadata": {
    "scrolled": true
   },
   "outputs": [
    {
     "name": "stdout",
     "output_type": "stream",
     "text": [
      "\n",
      "Window size 10\n",
      "Max error: 13.181818181818175 %\n",
      "Min error: -11.085271317829456 %\n",
      "Mean error: 0.2305390281975043 %\n",
      "\n",
      "Window size 100\n",
      "Max error: 10.590909090909099 %\n",
      "Min error: -9.11538461538462 %\n",
      "Mean error: 0.2332280996994721 %\n",
      "\n",
      "Window size 1000\n",
      "Max error: 9.259090909090904 %\n",
      "Min error: -8.07846153846154 %\n",
      "Mean error: 0.2080329012593448 %\n",
      "\n",
      "- - - - - \n",
      "\n",
      "Window size 10\n",
      "Max error: 100.56338028169016 %\n",
      "Min error: -45.50295857988165 %\n",
      "Mean error: 6.501086163090823 %\n",
      "\n",
      "Window size 100\n",
      "Max error: 79.98591549295776 %\n",
      "Min error: -33.78823529411765 %\n",
      "Mean error: 6.505611226546082 %\n",
      "\n",
      "Window size 1000\n",
      "Max error: 73.44428571428571 %\n",
      "Min error: -30.619999999999997 %\n",
      "Mean error: 6.538203071176077 %\n",
      "\n",
      "- - - - - \n",
      "\n",
      "Window size 10\n",
      "Max error: 7.900661763932296 %\n",
      "Min error: -6.889266774267928 %\n",
      "Mean error: 0.08363925980954247 %\n",
      "\n",
      "Window size 100\n",
      "Max error: 5.791385535193632 %\n",
      "Min error: -5.267486299737914 %\n",
      "Mean error: 0.07540240122956408 %\n",
      "\n",
      "Window size 1000\n",
      "Max error: 5.38192057092934 %\n",
      "Min error: -4.900682060661482 %\n",
      "Mean error: 0.08045477287091958 %\n",
      "\n",
      "- - - - - \n",
      "\n",
      "Window size 10\n",
      "Max error: 7.594433399602386 %\n",
      "Min error: -6.602914389799635 %\n",
      "Mean error: 0.07529215332563377 %\n",
      "\n",
      "Window size 100\n",
      "Max error: 5.481518481518491 %\n",
      "Min error: -5.237272727272723 %\n",
      "Mean error: 0.08337878179147905 %\n",
      "\n",
      "Window size 1000\n",
      "Max error: 5.157300000000006 %\n",
      "Min error: -4.611090909090905 %\n",
      "Mean error: 0.0738090285450392 %\n",
      "\n",
      "- - - - - \n",
      "\n",
      "Window size 10\n",
      "Max error: 23.984461709212006 %\n",
      "Min error: -18.361629881154496 %\n",
      "Mean error: 0.6753835914708793 %\n",
      "\n",
      "Window size 100\n",
      "Max error: 19.353266888150607 %\n",
      "Min error: -13.903252710592163 %\n",
      "Mean error: 0.7017454258373429 %\n",
      "\n",
      "Window size 1000\n",
      "Max error: 17.394672586015542 %\n",
      "Min error: -12.606505421184321 %\n",
      "Mean error: 0.7343088690746589 %\n",
      "\n",
      "- - - - - \n",
      "\n",
      "Window size 10\n",
      "Max error: 11.407860824742269 %\n",
      "Min error: -10.04020946325043 %\n",
      "Mean error: 0.16157430799670147 %\n",
      "\n",
      "Window size 100\n",
      "Max error: 8.57021505376344 %\n",
      "Min error: -7.406673520889815 %\n",
      "Mean error: 0.16306485093273881 %\n",
      "\n",
      "Window size 1000\n",
      "Max error: 7.698613052359956 %\n",
      "Min error: -6.754971962616819 %\n",
      "Mean error: 0.15973072223158932 %\n",
      "\n",
      "- - - - - \n"
     ]
    }
   ],
   "source": [
    "wins = 10, 100, 1000\n",
    "for ser in series:\n",
    "    print()\n",
    "    for window in wins:\n",
    "        print(f'Window size {window}')\n",
    "        moving_avg(ser, window)\n",
    "        print()\n",
    "    print('- - - - - ')"
   ]
  },
  {
   "cell_type": "code",
   "execution_count": null,
   "metadata": {},
   "outputs": [],
   "source": []
  },
  {
   "cell_type": "code",
   "execution_count": null,
   "metadata": {},
   "outputs": [],
   "source": []
  }
 ],
 "metadata": {
  "kernelspec": {
   "display_name": "Python 3",
   "language": "python",
   "name": "python3"
  },
  "language_info": {
   "codemirror_mode": {
    "name": "ipython",
    "version": 3
   },
   "file_extension": ".py",
   "mimetype": "text/x-python",
   "name": "python",
   "nbconvert_exporter": "python",
   "pygments_lexer": "ipython3",
   "version": "3.7.1"
  }
 },
 "nbformat": 4,
 "nbformat_minor": 2
}
