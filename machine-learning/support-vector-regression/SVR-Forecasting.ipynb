{
 "cells": [
  {
   "cell_type": "markdown",
   "metadata": {},
   "source": [
    "# Forecasting with SVR using new stats features"
   ]
  },
  {
   "cell_type": "code",
   "execution_count": 31,
   "metadata": {},
   "outputs": [],
   "source": [
    "import pandas as pd\n",
    "import numpy as np\n",
    "from sklearn.svm import SVR\n",
    "from sklearn.preprocessing import scale\n",
    "from sklearn.metrics import mean_squared_error\n",
    "import matplotlib.pyplot as plt"
   ]
  },
  {
   "cell_type": "code",
   "execution_count": 34,
   "metadata": {
    "scrolled": true
   },
   "outputs": [
    {
     "data": {
      "text/html": [
       "<div>\n",
       "<style scoped>\n",
       "    .dataframe tbody tr th:only-of-type {\n",
       "        vertical-align: middle;\n",
       "    }\n",
       "\n",
       "    .dataframe tbody tr th {\n",
       "        vertical-align: top;\n",
       "    }\n",
       "\n",
       "    .dataframe thead th {\n",
       "        text-align: right;\n",
       "    }\n",
       "</style>\n",
       "<table border=\"1\" class=\"dataframe\">\n",
       "  <thead>\n",
       "    <tr style=\"text-align: right;\">\n",
       "      <th></th>\n",
       "      <th>Value</th>\n",
       "      <th>Avg3</th>\n",
       "      <th>Stdev3</th>\n",
       "      <th>Minimum3</th>\n",
       "      <th>Maximum3</th>\n",
       "      <th>Fluctuation3</th>\n",
       "      <th>Avg5</th>\n",
       "      <th>Stdev5</th>\n",
       "      <th>Minimum5</th>\n",
       "      <th>Maximum5</th>\n",
       "      <th>Fluctuation5</th>\n",
       "      <th>Avg7</th>\n",
       "      <th>Stdev7</th>\n",
       "      <th>Minimum7</th>\n",
       "      <th>Maximum7</th>\n",
       "      <th>Fluctuation7</th>\n",
       "      <th>Hour</th>\n",
       "      <th>Minute</th>\n",
       "      <th>Second</th>\n",
       "      <th>Microsecond</th>\n",
       "    </tr>\n",
       "  </thead>\n",
       "  <tbody>\n",
       "    <tr>\n",
       "      <th>6881</th>\n",
       "      <td>13.0</td>\n",
       "      <td>12.500000</td>\n",
       "      <td>0.519615</td>\n",
       "      <td>11.9</td>\n",
       "      <td>12.8</td>\n",
       "      <td>0.9</td>\n",
       "      <td>12.38</td>\n",
       "      <td>0.426615</td>\n",
       "      <td>11.9</td>\n",
       "      <td>12.8</td>\n",
       "      <td>0.9</td>\n",
       "      <td>12.142858</td>\n",
       "      <td>0.553345</td>\n",
       "      <td>11.3</td>\n",
       "      <td>12.8</td>\n",
       "      <td>1.5</td>\n",
       "      <td>8.0</td>\n",
       "      <td>0.0</td>\n",
       "      <td>7.0</td>\n",
       "      <td>204715.0</td>\n",
       "    </tr>\n",
       "    <tr>\n",
       "      <th>6882</th>\n",
       "      <td>11.8</td>\n",
       "      <td>12.566667</td>\n",
       "      <td>0.585947</td>\n",
       "      <td>11.9</td>\n",
       "      <td>13.0</td>\n",
       "      <td>1.1</td>\n",
       "      <td>12.50</td>\n",
       "      <td>0.509902</td>\n",
       "      <td>11.9</td>\n",
       "      <td>13.0</td>\n",
       "      <td>1.1</td>\n",
       "      <td>12.314285</td>\n",
       "      <td>0.612178</td>\n",
       "      <td>11.3</td>\n",
       "      <td>13.0</td>\n",
       "      <td>1.7</td>\n",
       "      <td>8.0</td>\n",
       "      <td>0.0</td>\n",
       "      <td>7.0</td>\n",
       "      <td>305414.0</td>\n",
       "    </tr>\n",
       "    <tr>\n",
       "      <th>6883</th>\n",
       "      <td>11.3</td>\n",
       "      <td>12.533334</td>\n",
       "      <td>0.642910</td>\n",
       "      <td>11.8</td>\n",
       "      <td>13.0</td>\n",
       "      <td>1.2</td>\n",
       "      <td>12.46</td>\n",
       "      <td>0.563915</td>\n",
       "      <td>11.8</td>\n",
       "      <td>13.0</td>\n",
       "      <td>1.2</td>\n",
       "      <td>12.385715</td>\n",
       "      <td>0.491354</td>\n",
       "      <td>11.8</td>\n",
       "      <td>13.0</td>\n",
       "      <td>1.2</td>\n",
       "      <td>8.0</td>\n",
       "      <td>0.0</td>\n",
       "      <td>7.0</td>\n",
       "      <td>406250.0</td>\n",
       "    </tr>\n",
       "    <tr>\n",
       "      <th>6884</th>\n",
       "      <td>11.3</td>\n",
       "      <td>12.033334</td>\n",
       "      <td>0.873689</td>\n",
       "      <td>11.3</td>\n",
       "      <td>13.0</td>\n",
       "      <td>1.7</td>\n",
       "      <td>12.16</td>\n",
       "      <td>0.716240</td>\n",
       "      <td>11.3</td>\n",
       "      <td>13.0</td>\n",
       "      <td>1.7</td>\n",
       "      <td>12.228572</td>\n",
       "      <td>0.639568</td>\n",
       "      <td>11.3</td>\n",
       "      <td>13.0</td>\n",
       "      <td>1.7</td>\n",
       "      <td>8.0</td>\n",
       "      <td>0.0</td>\n",
       "      <td>7.0</td>\n",
       "      <td>506779.0</td>\n",
       "    </tr>\n",
       "    <tr>\n",
       "      <th>6885</th>\n",
       "      <td>12.5</td>\n",
       "      <td>11.466666</td>\n",
       "      <td>0.288675</td>\n",
       "      <td>11.3</td>\n",
       "      <td>11.8</td>\n",
       "      <td>0.5</td>\n",
       "      <td>12.04</td>\n",
       "      <td>0.814248</td>\n",
       "      <td>11.3</td>\n",
       "      <td>13.0</td>\n",
       "      <td>1.7</td>\n",
       "      <td>12.128572</td>\n",
       "      <td>0.729644</td>\n",
       "      <td>11.3</td>\n",
       "      <td>13.0</td>\n",
       "      <td>1.7</td>\n",
       "      <td>8.0</td>\n",
       "      <td>0.0</td>\n",
       "      <td>7.0</td>\n",
       "      <td>607320.0</td>\n",
       "    </tr>\n",
       "  </tbody>\n",
       "</table>\n",
       "</div>"
      ],
      "text/plain": [
       "      Value       Avg3    Stdev3  Minimum3  Maximum3  Fluctuation3   Avg5  \\\n",
       "6881   13.0  12.500000  0.519615      11.9      12.8           0.9  12.38   \n",
       "6882   11.8  12.566667  0.585947      11.9      13.0           1.1  12.50   \n",
       "6883   11.3  12.533334  0.642910      11.8      13.0           1.2  12.46   \n",
       "6884   11.3  12.033334  0.873689      11.3      13.0           1.7  12.16   \n",
       "6885   12.5  11.466666  0.288675      11.3      11.8           0.5  12.04   \n",
       "\n",
       "        Stdev5  Minimum5  Maximum5  Fluctuation5       Avg7    Stdev7  \\\n",
       "6881  0.426615      11.9      12.8           0.9  12.142858  0.553345   \n",
       "6882  0.509902      11.9      13.0           1.1  12.314285  0.612178   \n",
       "6883  0.563915      11.8      13.0           1.2  12.385715  0.491354   \n",
       "6884  0.716240      11.3      13.0           1.7  12.228572  0.639568   \n",
       "6885  0.814248      11.3      13.0           1.7  12.128572  0.729644   \n",
       "\n",
       "      Minimum7  Maximum7  Fluctuation7  Hour  Minute  Second  Microsecond  \n",
       "6881      11.3      12.8           1.5   8.0     0.0     7.0     204715.0  \n",
       "6882      11.3      13.0           1.7   8.0     0.0     7.0     305414.0  \n",
       "6883      11.8      13.0           1.2   8.0     0.0     7.0     406250.0  \n",
       "6884      11.3      13.0           1.7   8.0     0.0     7.0     506779.0  \n",
       "6885      11.3      13.0           1.7   8.0     0.0     7.0     607320.0  "
      ]
     },
     "execution_count": 34,
     "metadata": {},
     "output_type": "execute_result"
    }
   ],
   "source": [
    "basedir = 'C:/Users/jesus/Documents/School/College/Computer Science/Class/CS 4961 - Boeing MPS/repo/tlm-data/train/generated/engineered/'\n",
    "file = 'Battery1-1.csv'\n",
    "path = f'{basedir}{file}'\n",
    "\n",
    "odasdf = pd.read_csv(path, dtype=np.float32)\n",
    "odasdf.tail()"
   ]
  },
  {
   "cell_type": "code",
   "execution_count": 35,
   "metadata": {},
   "outputs": [
    {
     "name": "stdout",
     "output_type": "stream",
     "text": [
      "['Avg3', 'Stdev3', 'Minimum3', 'Maximum3', 'Fluctuation3', 'Avg5', 'Stdev5', 'Minimum5', 'Maximum5', 'Fluctuation5', 'Avg7', 'Stdev7', 'Minimum7', 'Maximum7', 'Fluctuation7', 'Hour', 'Minute', 'Second', 'Microsecond']\n"
     ]
    }
   ],
   "source": [
    "feat = []\n",
    "for i in 3, 5, 7:\n",
    "    feat.append(f'Avg{i}')\n",
    "    feat.append(f'Stdev{i}')\n",
    "    feat.append(f'Minimum{i}')\n",
    "    feat.append(f'Maximum{i}')\n",
    "    feat.append(f'Fluctuation{i}')\n",
    "feat.append('Hour')\n",
    "feat.append('Minute')\n",
    "feat.append('Second')\n",
    "feat.append('Microsecond')\n",
    "print(feat)\n",
    "\n",
    "label = 'Value'"
   ]
  },
  {
   "cell_type": "code",
   "execution_count": 36,
   "metadata": {},
   "outputs": [
    {
     "name": "stdout",
     "output_type": "stream",
     "text": [
      "4820\n"
     ]
    }
   ],
   "source": [
    "split = .7\n",
    "rows = len(odasdf)\n",
    "\n",
    "train_size = int( rows * split )\n",
    "print(train_size)"
   ]
  },
  {
   "cell_type": "code",
   "execution_count": 37,
   "metadata": {},
   "outputs": [
    {
     "data": {
      "text/html": [
       "<div>\n",
       "<style scoped>\n",
       "    .dataframe tbody tr th:only-of-type {\n",
       "        vertical-align: middle;\n",
       "    }\n",
       "\n",
       "    .dataframe tbody tr th {\n",
       "        vertical-align: top;\n",
       "    }\n",
       "\n",
       "    .dataframe thead th {\n",
       "        text-align: right;\n",
       "    }\n",
       "</style>\n",
       "<table border=\"1\" class=\"dataframe\">\n",
       "  <thead>\n",
       "    <tr style=\"text-align: right;\">\n",
       "      <th></th>\n",
       "      <th>Avg3</th>\n",
       "      <th>Stdev3</th>\n",
       "      <th>Minimum3</th>\n",
       "      <th>Maximum3</th>\n",
       "      <th>Fluctuation3</th>\n",
       "      <th>Avg5</th>\n",
       "      <th>Stdev5</th>\n",
       "      <th>Minimum5</th>\n",
       "      <th>Maximum5</th>\n",
       "      <th>Fluctuation5</th>\n",
       "      <th>Avg7</th>\n",
       "      <th>Stdev7</th>\n",
       "      <th>Minimum7</th>\n",
       "      <th>Maximum7</th>\n",
       "      <th>Fluctuation7</th>\n",
       "      <th>Hour</th>\n",
       "      <th>Minute</th>\n",
       "      <th>Second</th>\n",
       "      <th>Microsecond</th>\n",
       "    </tr>\n",
       "  </thead>\n",
       "  <tbody>\n",
       "    <tr>\n",
       "      <th>0</th>\n",
       "      <td>11.233334</td>\n",
       "      <td>0.230940</td>\n",
       "      <td>11.1</td>\n",
       "      <td>11.5</td>\n",
       "      <td>0.4</td>\n",
       "      <td>11.34</td>\n",
       "      <td>0.260768</td>\n",
       "      <td>11.1</td>\n",
       "      <td>11.7</td>\n",
       "      <td>0.6</td>\n",
       "      <td>11.485714</td>\n",
       "      <td>0.498092</td>\n",
       "      <td>11.1</td>\n",
       "      <td>12.5</td>\n",
       "      <td>1.4</td>\n",
       "      <td>7.0</td>\n",
       "      <td>48.0</td>\n",
       "      <td>34.0</td>\n",
       "      <td>226037.0</td>\n",
       "    </tr>\n",
       "    <tr>\n",
       "      <th>1</th>\n",
       "      <td>11.533334</td>\n",
       "      <td>0.450925</td>\n",
       "      <td>11.1</td>\n",
       "      <td>12.0</td>\n",
       "      <td>0.9</td>\n",
       "      <td>11.48</td>\n",
       "      <td>0.389872</td>\n",
       "      <td>11.1</td>\n",
       "      <td>12.0</td>\n",
       "      <td>0.9</td>\n",
       "      <td>11.414286</td>\n",
       "      <td>0.338765</td>\n",
       "      <td>11.1</td>\n",
       "      <td>12.0</td>\n",
       "      <td>0.9</td>\n",
       "      <td>7.0</td>\n",
       "      <td>48.0</td>\n",
       "      <td>34.0</td>\n",
       "      <td>326727.0</td>\n",
       "    </tr>\n",
       "    <tr>\n",
       "      <th>2</th>\n",
       "      <td>11.666667</td>\n",
       "      <td>0.288675</td>\n",
       "      <td>11.5</td>\n",
       "      <td>12.0</td>\n",
       "      <td>0.5</td>\n",
       "      <td>11.44</td>\n",
       "      <td>0.371484</td>\n",
       "      <td>11.1</td>\n",
       "      <td>12.0</td>\n",
       "      <td>0.9</td>\n",
       "      <td>11.457143</td>\n",
       "      <td>0.325869</td>\n",
       "      <td>11.1</td>\n",
       "      <td>12.0</td>\n",
       "      <td>0.9</td>\n",
       "      <td>7.0</td>\n",
       "      <td>48.0</td>\n",
       "      <td>34.0</td>\n",
       "      <td>427272.0</td>\n",
       "    </tr>\n",
       "    <tr>\n",
       "      <th>3</th>\n",
       "      <td>11.633333</td>\n",
       "      <td>0.321455</td>\n",
       "      <td>11.4</td>\n",
       "      <td>12.0</td>\n",
       "      <td>0.6</td>\n",
       "      <td>11.50</td>\n",
       "      <td>0.324037</td>\n",
       "      <td>11.1</td>\n",
       "      <td>12.0</td>\n",
       "      <td>0.9</td>\n",
       "      <td>11.471429</td>\n",
       "      <td>0.319970</td>\n",
       "      <td>11.1</td>\n",
       "      <td>12.0</td>\n",
       "      <td>0.9</td>\n",
       "      <td>7.0</td>\n",
       "      <td>48.0</td>\n",
       "      <td>34.0</td>\n",
       "      <td>527970.0</td>\n",
       "    </tr>\n",
       "    <tr>\n",
       "      <th>4</th>\n",
       "      <td>11.633333</td>\n",
       "      <td>0.321455</td>\n",
       "      <td>11.4</td>\n",
       "      <td>12.0</td>\n",
       "      <td>0.6</td>\n",
       "      <td>11.68</td>\n",
       "      <td>0.294958</td>\n",
       "      <td>11.4</td>\n",
       "      <td>12.0</td>\n",
       "      <td>0.6</td>\n",
       "      <td>11.514286</td>\n",
       "      <td>0.371612</td>\n",
       "      <td>11.1</td>\n",
       "      <td>12.0</td>\n",
       "      <td>0.9</td>\n",
       "      <td>7.0</td>\n",
       "      <td>48.0</td>\n",
       "      <td>34.0</td>\n",
       "      <td>628777.0</td>\n",
       "    </tr>\n",
       "  </tbody>\n",
       "</table>\n",
       "</div>"
      ],
      "text/plain": [
       "        Avg3    Stdev3  Minimum3  Maximum3  Fluctuation3   Avg5    Stdev5  \\\n",
       "0  11.233334  0.230940      11.1      11.5           0.4  11.34  0.260768   \n",
       "1  11.533334  0.450925      11.1      12.0           0.9  11.48  0.389872   \n",
       "2  11.666667  0.288675      11.5      12.0           0.5  11.44  0.371484   \n",
       "3  11.633333  0.321455      11.4      12.0           0.6  11.50  0.324037   \n",
       "4  11.633333  0.321455      11.4      12.0           0.6  11.68  0.294958   \n",
       "\n",
       "   Minimum5  Maximum5  Fluctuation5       Avg7    Stdev7  Minimum7  Maximum7  \\\n",
       "0      11.1      11.7           0.6  11.485714  0.498092      11.1      12.5   \n",
       "1      11.1      12.0           0.9  11.414286  0.338765      11.1      12.0   \n",
       "2      11.1      12.0           0.9  11.457143  0.325869      11.1      12.0   \n",
       "3      11.1      12.0           0.9  11.471429  0.319970      11.1      12.0   \n",
       "4      11.4      12.0           0.6  11.514286  0.371612      11.1      12.0   \n",
       "\n",
       "   Fluctuation7  Hour  Minute  Second  Microsecond  \n",
       "0           1.4   7.0    48.0    34.0     226037.0  \n",
       "1           0.9   7.0    48.0    34.0     326727.0  \n",
       "2           0.9   7.0    48.0    34.0     427272.0  \n",
       "3           0.9   7.0    48.0    34.0     527970.0  \n",
       "4           0.9   7.0    48.0    34.0     628777.0  "
      ]
     },
     "execution_count": 37,
     "metadata": {},
     "output_type": "execute_result"
    }
   ],
   "source": [
    "X_train = odasdf[feat][:train_size]\n",
    "X_train.head()"
   ]
  },
  {
   "cell_type": "code",
   "execution_count": 38,
   "metadata": {},
   "outputs": [
    {
     "data": {
      "text/plain": [
       "0    12.0\n",
       "1    11.5\n",
       "2    11.4\n",
       "3    12.0\n",
       "4    11.1\n",
       "Name: Value, dtype: float32"
      ]
     },
     "execution_count": 38,
     "metadata": {},
     "output_type": "execute_result"
    }
   ],
   "source": [
    "y_train = odasdf[label][:train_size]\n",
    "y_train.head()"
   ]
  },
  {
   "cell_type": "code",
   "execution_count": 39,
   "metadata": {},
   "outputs": [
    {
     "data": {
      "text/html": [
       "<div>\n",
       "<style scoped>\n",
       "    .dataframe tbody tr th:only-of-type {\n",
       "        vertical-align: middle;\n",
       "    }\n",
       "\n",
       "    .dataframe tbody tr th {\n",
       "        vertical-align: top;\n",
       "    }\n",
       "\n",
       "    .dataframe thead th {\n",
       "        text-align: right;\n",
       "    }\n",
       "</style>\n",
       "<table border=\"1\" class=\"dataframe\">\n",
       "  <thead>\n",
       "    <tr style=\"text-align: right;\">\n",
       "      <th></th>\n",
       "      <th>Avg3</th>\n",
       "      <th>Stdev3</th>\n",
       "      <th>Minimum3</th>\n",
       "      <th>Maximum3</th>\n",
       "      <th>Fluctuation3</th>\n",
       "      <th>Avg5</th>\n",
       "      <th>Stdev5</th>\n",
       "      <th>Minimum5</th>\n",
       "      <th>Maximum5</th>\n",
       "      <th>Fluctuation5</th>\n",
       "      <th>Avg7</th>\n",
       "      <th>Stdev7</th>\n",
       "      <th>Minimum7</th>\n",
       "      <th>Maximum7</th>\n",
       "      <th>Fluctuation7</th>\n",
       "      <th>Hour</th>\n",
       "      <th>Minute</th>\n",
       "      <th>Second</th>\n",
       "      <th>Microsecond</th>\n",
       "    </tr>\n",
       "  </thead>\n",
       "  <tbody>\n",
       "    <tr>\n",
       "      <th>6881</th>\n",
       "      <td>12.500000</td>\n",
       "      <td>0.519615</td>\n",
       "      <td>11.9</td>\n",
       "      <td>12.8</td>\n",
       "      <td>0.9</td>\n",
       "      <td>12.38</td>\n",
       "      <td>0.426615</td>\n",
       "      <td>11.9</td>\n",
       "      <td>12.8</td>\n",
       "      <td>0.9</td>\n",
       "      <td>12.142858</td>\n",
       "      <td>0.553345</td>\n",
       "      <td>11.3</td>\n",
       "      <td>12.8</td>\n",
       "      <td>1.5</td>\n",
       "      <td>8.0</td>\n",
       "      <td>0.0</td>\n",
       "      <td>7.0</td>\n",
       "      <td>204715.0</td>\n",
       "    </tr>\n",
       "    <tr>\n",
       "      <th>6882</th>\n",
       "      <td>12.566667</td>\n",
       "      <td>0.585947</td>\n",
       "      <td>11.9</td>\n",
       "      <td>13.0</td>\n",
       "      <td>1.1</td>\n",
       "      <td>12.50</td>\n",
       "      <td>0.509902</td>\n",
       "      <td>11.9</td>\n",
       "      <td>13.0</td>\n",
       "      <td>1.1</td>\n",
       "      <td>12.314285</td>\n",
       "      <td>0.612178</td>\n",
       "      <td>11.3</td>\n",
       "      <td>13.0</td>\n",
       "      <td>1.7</td>\n",
       "      <td>8.0</td>\n",
       "      <td>0.0</td>\n",
       "      <td>7.0</td>\n",
       "      <td>305414.0</td>\n",
       "    </tr>\n",
       "    <tr>\n",
       "      <th>6883</th>\n",
       "      <td>12.533334</td>\n",
       "      <td>0.642910</td>\n",
       "      <td>11.8</td>\n",
       "      <td>13.0</td>\n",
       "      <td>1.2</td>\n",
       "      <td>12.46</td>\n",
       "      <td>0.563915</td>\n",
       "      <td>11.8</td>\n",
       "      <td>13.0</td>\n",
       "      <td>1.2</td>\n",
       "      <td>12.385715</td>\n",
       "      <td>0.491354</td>\n",
       "      <td>11.8</td>\n",
       "      <td>13.0</td>\n",
       "      <td>1.2</td>\n",
       "      <td>8.0</td>\n",
       "      <td>0.0</td>\n",
       "      <td>7.0</td>\n",
       "      <td>406250.0</td>\n",
       "    </tr>\n",
       "    <tr>\n",
       "      <th>6884</th>\n",
       "      <td>12.033334</td>\n",
       "      <td>0.873689</td>\n",
       "      <td>11.3</td>\n",
       "      <td>13.0</td>\n",
       "      <td>1.7</td>\n",
       "      <td>12.16</td>\n",
       "      <td>0.716240</td>\n",
       "      <td>11.3</td>\n",
       "      <td>13.0</td>\n",
       "      <td>1.7</td>\n",
       "      <td>12.228572</td>\n",
       "      <td>0.639568</td>\n",
       "      <td>11.3</td>\n",
       "      <td>13.0</td>\n",
       "      <td>1.7</td>\n",
       "      <td>8.0</td>\n",
       "      <td>0.0</td>\n",
       "      <td>7.0</td>\n",
       "      <td>506779.0</td>\n",
       "    </tr>\n",
       "    <tr>\n",
       "      <th>6885</th>\n",
       "      <td>11.466666</td>\n",
       "      <td>0.288675</td>\n",
       "      <td>11.3</td>\n",
       "      <td>11.8</td>\n",
       "      <td>0.5</td>\n",
       "      <td>12.04</td>\n",
       "      <td>0.814248</td>\n",
       "      <td>11.3</td>\n",
       "      <td>13.0</td>\n",
       "      <td>1.7</td>\n",
       "      <td>12.128572</td>\n",
       "      <td>0.729644</td>\n",
       "      <td>11.3</td>\n",
       "      <td>13.0</td>\n",
       "      <td>1.7</td>\n",
       "      <td>8.0</td>\n",
       "      <td>0.0</td>\n",
       "      <td>7.0</td>\n",
       "      <td>607320.0</td>\n",
       "    </tr>\n",
       "  </tbody>\n",
       "</table>\n",
       "</div>"
      ],
      "text/plain": [
       "           Avg3    Stdev3  Minimum3  Maximum3  Fluctuation3   Avg5    Stdev5  \\\n",
       "6881  12.500000  0.519615      11.9      12.8           0.9  12.38  0.426615   \n",
       "6882  12.566667  0.585947      11.9      13.0           1.1  12.50  0.509902   \n",
       "6883  12.533334  0.642910      11.8      13.0           1.2  12.46  0.563915   \n",
       "6884  12.033334  0.873689      11.3      13.0           1.7  12.16  0.716240   \n",
       "6885  11.466666  0.288675      11.3      11.8           0.5  12.04  0.814248   \n",
       "\n",
       "      Minimum5  Maximum5  Fluctuation5       Avg7    Stdev7  Minimum7  \\\n",
       "6881      11.9      12.8           0.9  12.142858  0.553345      11.3   \n",
       "6882      11.9      13.0           1.1  12.314285  0.612178      11.3   \n",
       "6883      11.8      13.0           1.2  12.385715  0.491354      11.8   \n",
       "6884      11.3      13.0           1.7  12.228572  0.639568      11.3   \n",
       "6885      11.3      13.0           1.7  12.128572  0.729644      11.3   \n",
       "\n",
       "      Maximum7  Fluctuation7  Hour  Minute  Second  Microsecond  \n",
       "6881      12.8           1.5   8.0     0.0     7.0     204715.0  \n",
       "6882      13.0           1.7   8.0     0.0     7.0     305414.0  \n",
       "6883      13.0           1.2   8.0     0.0     7.0     406250.0  \n",
       "6884      13.0           1.7   8.0     0.0     7.0     506779.0  \n",
       "6885      13.0           1.7   8.0     0.0     7.0     607320.0  "
      ]
     },
     "execution_count": 39,
     "metadata": {},
     "output_type": "execute_result"
    }
   ],
   "source": [
    "X_test = odasdf[feat][train_size:]\n",
    "X_test.tail()"
   ]
  },
  {
   "cell_type": "code",
   "execution_count": 40,
   "metadata": {},
   "outputs": [
    {
     "data": {
      "text/plain": [
       "6881    13.0\n",
       "6882    11.8\n",
       "6883    11.3\n",
       "6884    11.3\n",
       "6885    12.5\n",
       "Name: Value, dtype: float32"
      ]
     },
     "execution_count": 40,
     "metadata": {},
     "output_type": "execute_result"
    }
   ],
   "source": [
    "y_test = odasdf[label][train_size:]\n",
    "y_test.tail()"
   ]
  },
  {
   "cell_type": "code",
   "execution_count": 41,
   "metadata": {},
   "outputs": [
    {
     "name": "stderr",
     "output_type": "stream",
     "text": [
      "C:\\Programs\\Anaconda\\lib\\site-packages\\sklearn\\svm\\base.py:196: FutureWarning: The default value of gamma will change from 'auto' to 'scale' in version 0.22 to account better for unscaled features. Set gamma explicitly to 'auto' or 'scale' to avoid this warning.\n",
      "  \"avoid this warning.\", FutureWarning)\n"
     ]
    },
    {
     "name": "stdout",
     "output_type": "stream",
     "text": [
      "RMSE is 0.5835005260362957\n"
     ]
    }
   ],
   "source": [
    "svr = SVR(C=1.0, epsilon=0.2)\n",
    "svr.fit(X_train, y_train)\n",
    "y_pred = svr.predict(X_test)\n",
    "\n",
    "mse = mean_squared_error(y_test, y_pred)\n",
    "rmse = np.sqrt(mse)\n",
    "print('RMSE is', rmse)"
   ]
  },
  {
   "cell_type": "code",
   "execution_count": null,
   "metadata": {},
   "outputs": [],
   "source": []
  },
  {
   "cell_type": "code",
   "execution_count": 47,
   "metadata": {},
   "outputs": [
    {
     "data": {
      "text/plain": [
       "<matplotlib.axes._subplots.AxesSubplot at 0x21dca868898>"
      ]
     },
     "execution_count": 47,
     "metadata": {},
     "output_type": "execute_result"
    },
    {
     "data": {
      "image/png": "[encoded data removed]",
      "text/plain": [
       "<Figure size 432x288 with 1 Axes>"
      ]
     },
     "metadata": {
      "needs_background": "light"
     },
     "output_type": "display_data"
    }
   ],
   "source": [
    "X_train['Avg3'][0:50].plot()"
   ]
  },
  {
   "cell_type": "code",
   "execution_count": null,
   "metadata": {},
   "outputs": [],
   "source": []
  },
  {
   "cell_type": "code",
   "execution_count": 74,
   "metadata": {},
   "outputs": [
    {
     "data": {
      "text/plain": [
       "(0, 96)"
      ]
     },
     "execution_count": 74,
     "metadata": {},
     "output_type": "execute_result"
    },
    {
     "data": {
      "image/png": "[encoded data removed]",
      "text/plain": [
       "<Figure size 432x288 with 1 Axes>"
      ]
     },
     "metadata": {
      "needs_background": "light"
     },
     "output_type": "display_data"
    }
   ],
   "source": [
    "plt.plot(y_train)\n",
    "plt.xlabel('x label')\n",
    "plt.ylabel('y label')\n",
    "plt.ylim(10,15)\n",
    "plt.xlim(0, train_size//50)"
   ]
  },
  {
   "cell_type": "code",
   "execution_count": 68,
   "metadata": {},
   "outputs": [
    {
     "data": {
      "text/plain": [
       "(0, 2066)"
      ]
     },
     "execution_count": 68,
     "metadata": {},
     "output_type": "execute_result"
    },
    {
     "data": {
      "image/png": "[encoded data removed]",
      "text/plain": [
       "<Figure size 432x288 with 1 Axes>"
      ]
     },
     "metadata": {
      "needs_background": "light"
     },
     "output_type": "display_data"
    }
   ],
   "source": [
    "plt.plot(y_pred)\n",
    "plt.xlabel('x label')\n",
    "plt.ylabel('y label')\n",
    "plt.ylim(10,15)\n",
    "plt.xlim(0, rows-train_size)"
   ]
  },
  {
   "cell_type": "code",
   "execution_count": null,
   "metadata": {},
   "outputs": [],
   "source": []
  }
 ],
 "metadata": {
  "kernelspec": {
   "display_name": "Python 3",
   "language": "python",
   "name": "python3"
  },
  "language_info": {
   "codemirror_mode": {
    "name": "ipython",
    "version": 3
   },
   "file_extension": ".py",
   "mimetype": "text/x-python",
   "name": "python",
   "nbconvert_exporter": "python",
   "pygments_lexer": "ipython3",
   "version": "3.7.1"
  }
 },
 "nbformat": 4,
 "nbformat_minor": 2
}
