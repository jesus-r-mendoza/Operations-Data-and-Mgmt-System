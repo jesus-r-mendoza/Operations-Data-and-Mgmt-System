{
 "cells": [
  {
   "cell_type": "markdown",
   "metadata": {},
   "source": [
    "# Support Vector Regression"
   ]
  },
  {
   "cell_type": "code",
   "execution_count": 86,
   "metadata": {},
   "outputs": [],
   "source": [
    "import os\n",
    "import pandas as pd\n",
    "import numpy as np\n",
    "from sklearn.svm import SVR, OneClassSVM\n",
    "from sklearn.preprocessing import scale\n",
    "from sklearn.metrics import mean_squared_error\n",
    "import matplotlib.pyplot as plt\n",
    "import statistics"
   ]
  },
  {
   "cell_type": "code",
   "execution_count": 44,
   "metadata": {},
   "outputs": [
    {
     "name": "stdout",
     "output_type": "stream",
     "text": [
      "Battery1_telemetryOutputData_2020_02_05_15_48_33.csv\n",
      "Battery2_telemetryOutputData_2020_02_05_15_48_33.csv\n",
      "CmdRcv_telemetryOutputData_2020_02_05_15_48_33.csv\n",
      "RSSI1_telemetryOutputData_2020_02_05_15_48_33.csv\n",
      "RSSI2_telemetryOutputData_2020_02_05_15_48_33.csv\n",
      "TlmTx_telemetryOutputData_2020_02_05_15_48_33.csv\n",
      "\n",
      "There are 6 csv files with data\n"
     ]
    }
   ],
   "source": [
    "# basedir = '../../../../tlm-data/train/generated/'\n",
    "basedir = r'C:/Users/jesus/Documents/School/College/Computer Science/Class/CS 4961 - Boeing MPS/repo/tlm-data/train/generated/engineered/'\n",
    "data_files = []\n",
    "with os.scandir(basedir) as dir:\n",
    "    for item in dir:\n",
    "        if item.is_file() and item.name[-4:] == '.csv':\n",
    "            data_files.append(item.name)\n",
    "            \n",
    "print(*data_files, sep='\\n')\n",
    "print(f'\\nThere are {len(data_files)} csv files with data')"
   ]
  },
  {
   "cell_type": "code",
   "execution_count": 56,
   "metadata": {},
   "outputs": [
    {
     "name": "stderr",
     "output_type": "stream",
     "text": [
      "C:\\Programs\\Anaconda\\lib\\site-packages\\ipykernel_launcher.py:4: FutureWarning: from_csv is deprecated. Please use read_csv(...) instead. Note that some of the default arguments are different, so please refer to the documentation for from_csv when changing your function calls\n",
      "  after removing the cwd from sys.path.\n"
     ]
    },
    {
     "data": {
      "text/html": [
       "<div>\n",
       "<style scoped>\n",
       "    .dataframe tbody tr th:only-of-type {\n",
       "        vertical-align: middle;\n",
       "    }\n",
       "\n",
       "    .dataframe tbody tr th {\n",
       "        vertical-align: top;\n",
       "    }\n",
       "\n",
       "    .dataframe thead th {\n",
       "        text-align: right;\n",
       "    }\n",
       "</style>\n",
       "<table border=\"1\" class=\"dataframe\">\n",
       "  <thead>\n",
       "    <tr style=\"text-align: right;\">\n",
       "      <th></th>\n",
       "      <th>Values</th>\n",
       "      <th>10th Moving Avg</th>\n",
       "      <th>100th Moving Avg</th>\n",
       "      <th>1000th Moving Avg</th>\n",
       "    </tr>\n",
       "  </thead>\n",
       "  <tbody>\n",
       "    <tr>\n",
       "      <th>2020-02-05 08:00:07.204715</th>\n",
       "      <td>13.0</td>\n",
       "      <td>12.08</td>\n",
       "      <td>12.025</td>\n",
       "      <td>11.9744</td>\n",
       "    </tr>\n",
       "    <tr>\n",
       "      <th>2020-02-05 08:00:07.305414</th>\n",
       "      <td>11.8</td>\n",
       "      <td>12.22</td>\n",
       "      <td>12.039</td>\n",
       "      <td>11.9749</td>\n",
       "    </tr>\n",
       "    <tr>\n",
       "      <th>2020-02-05 08:00:07.406250</th>\n",
       "      <td>11.3</td>\n",
       "      <td>12.26</td>\n",
       "      <td>12.028</td>\n",
       "      <td>11.9746</td>\n",
       "    </tr>\n",
       "    <tr>\n",
       "      <th>2020-02-05 08:00:07.506779</th>\n",
       "      <td>11.3</td>\n",
       "      <td>12.110000000000001</td>\n",
       "      <td>12.011</td>\n",
       "      <td>11.9744</td>\n",
       "    </tr>\n",
       "    <tr>\n",
       "      <th>2020-02-05 08:00:07.607320</th>\n",
       "      <td>12.5</td>\n",
       "      <td>12.06</td>\n",
       "      <td>12.001</td>\n",
       "      <td>11.9732</td>\n",
       "    </tr>\n",
       "  </tbody>\n",
       "</table>\n",
       "</div>"
      ],
      "text/plain": [
       "                            Values     10th Moving Avg 100th Moving Avg  \\\n",
       "2020-02-05 08:00:07.204715    13.0               12.08           12.025   \n",
       "2020-02-05 08:00:07.305414    11.8               12.22           12.039   \n",
       "2020-02-05 08:00:07.406250    11.3               12.26           12.028   \n",
       "2020-02-05 08:00:07.506779    11.3  12.110000000000001           12.011   \n",
       "2020-02-05 08:00:07.607320    12.5               12.06           12.001   \n",
       "\n",
       "                           1000th Moving Avg  \n",
       "2020-02-05 08:00:07.204715           11.9744  \n",
       "2020-02-05 08:00:07.305414           11.9749  \n",
       "2020-02-05 08:00:07.406250           11.9746  \n",
       "2020-02-05 08:00:07.506779           11.9744  \n",
       "2020-02-05 08:00:07.607320           11.9732  "
      ]
     },
     "execution_count": 56,
     "metadata": {},
     "output_type": "execute_result"
    }
   ],
   "source": [
    "def read_to_df():\n",
    "    dfs = []\n",
    "    for csv in data_files:\n",
    "        df = pd.DataFrame.from_csv(f'{basedir}{csv}')\n",
    "        dfs.append(df)\n",
    "    return dfs\n",
    "dfs = read_to_df()\n",
    "dfs[0].tail()"
   ]
  },
  {
   "cell_type": "code",
   "execution_count": 77,
   "metadata": {},
   "outputs": [
    {
     "name": "stdout",
     "output_type": "stream",
     "text": [
      "                           10th Moving Avg 100th Moving Avg 1000th Moving Avg\n",
      "2020-02-05 07:50:14.224142           11.87           11.809           11.9652\n",
      "2020-02-05 07:50:14.324831           11.81             11.8           11.9645\n",
      "2020-02-05 07:50:14.425524           11.88           11.793           11.9651\n",
      "2020-02-05 07:50:14.526193           11.84           11.805           11.9662\n",
      "2020-02-05 07:50:14.626680           11.91           11.807           11.9664\n",
      "\n",
      "2020-02-05 07:50:14.224142    11.8\n",
      "2020-02-05 07:50:14.324831    11.8\n",
      "2020-02-05 07:50:14.425524    12.4\n",
      "2020-02-05 07:50:14.526193    11.9\n",
      "2020-02-05 07:50:14.626680    12.8\n",
      "Name: Values, dtype: float64\n"
     ]
    }
   ],
   "source": [
    "feat = ['10th Moving Avg', '100th Moving Avg', '1000th Moving Avg']\n",
    "X = dfs[0][ feat ][1000:6000]\n",
    "y = dfs[0]['Values'][1000:6000]\n",
    "print(X.head())\n",
    "print()\n",
    "print(y.head())"
   ]
  },
  {
   "cell_type": "code",
   "execution_count": 78,
   "metadata": {},
   "outputs": [
    {
     "name": "stderr",
     "output_type": "stream",
     "text": [
      "C:\\Programs\\Anaconda\\lib\\site-packages\\sklearn\\svm\\base.py:196: FutureWarning: The default value of gamma will change from 'auto' to 'scale' in version 0.22 to account better for unscaled features. Set gamma explicitly to 'auto' or 'scale' to avoid this warning.\n",
      "  \"avoid this warning.\", FutureWarning)\n"
     ]
    },
    {
     "data": {
      "text/plain": [
       "SVR(C=1.0, cache_size=200, coef0=0.0, degree=3, epsilon=0.2,\n",
       "  gamma='auto_deprecated', kernel='rbf', max_iter=-1, shrinking=True,\n",
       "  tol=0.001, verbose=False)"
      ]
     },
     "execution_count": 78,
     "metadata": {},
     "output_type": "execute_result"
    }
   ],
   "source": [
    "clf = SVR(C=1.0, epsilon=0.2)\n",
    "clf.fit(X, y)"
   ]
  },
  {
   "cell_type": "code",
   "execution_count": 82,
   "metadata": {},
   "outputs": [],
   "source": [
    "X_test = dfs[0][feat][6000:]\n",
    "y_test = dfs[0]['Values'][6000:]\n",
    "y_pred = clf.predict(X_test)"
   ]
  },
  {
   "cell_type": "code",
   "execution_count": 88,
   "metadata": {},
   "outputs": [
    {
     "name": "stdout",
     "output_type": "stream",
     "text": [
      "RMSE is 0.5848111103603791\n"
     ]
    }
   ],
   "source": [
    "# Calculating \"Mean Square Error\" (MSE):\n",
    "mse = mean_squared_error(y_test, y_pred)\n",
    "\n",
    "# Using numpy sqrt function to take the square root and calculate \"Root Mean Square Error\" (RMSE)\n",
    "rmse = np.sqrt(mse)\n",
    "\n",
    "print('RMSE is', rmse)"
   ]
  },
  {
   "cell_type": "code",
   "execution_count": null,
   "metadata": {},
   "outputs": [],
   "source": []
  }
 ],
 "metadata": {
  "kernelspec": {
   "display_name": "Python 3",
   "language": "python",
   "name": "python3"
  },
  "language_info": {
   "codemirror_mode": {
    "name": "ipython",
    "version": 3
   },
   "file_extension": ".py",
   "mimetype": "text/x-python",
   "name": "python",
   "nbconvert_exporter": "python",
   "pygments_lexer": "ipython3",
   "version": "3.7.1"
  }
 },
 "nbformat": 4,
 "nbformat_minor": 2
}
