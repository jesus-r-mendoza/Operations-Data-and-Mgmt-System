{
 "cells": [
  {
   "cell_type": "code",
   "execution_count": 59,
   "metadata": {},
   "outputs": [
    {
     "name": "stdout",
     "output_type": "stream",
     "text": [
      "6886\n",
      "4820.2\n",
      "      Value       Avg3    Stdev3  Minimum3  Maximum3  Fluctuation3   Avg5  \\\n",
      "0      12.0  11.233333  0.230940      11.1      11.5           0.4  11.34   \n",
      "1      11.5  11.533333  0.450925      11.1      12.0           0.9  11.48   \n",
      "2      11.4  11.666667  0.288675      11.5      12.0           0.5  11.44   \n",
      "3      12.0  11.633333  0.321455      11.4      12.0           0.6  11.50   \n",
      "4      11.1  11.633333  0.321455      11.4      12.0           0.6  11.68   \n",
      "...     ...        ...       ...       ...       ...           ...    ...   \n",
      "4815   12.4  11.200000  0.100000      11.1      11.3           0.2  11.50   \n",
      "4816   12.4  11.566667  0.723418      11.1      12.4           1.3  11.64   \n",
      "4817   11.0  12.000000  0.692820      11.2      12.4           1.2  11.68   \n",
      "4818   12.6  11.933333  0.808290      11.0      12.4           1.4  11.62   \n",
      "4819   12.8  12.000000  0.871780      11.0      12.6           1.6  11.92   \n",
      "\n",
      "        Stdev5  Minimum5  Maximum5  ...       Avg7    Stdev7  Minimum7  \\\n",
      "0     0.260768      11.1      11.7  ...  11.485714  0.498092      11.1   \n",
      "1     0.389872      11.1      12.0  ...  11.414286  0.338765      11.1   \n",
      "2     0.371484      11.1      12.0  ...  11.457143  0.325869      11.1   \n",
      "3     0.324037      11.1      12.0  ...  11.471429  0.319970      11.1   \n",
      "4     0.294958      11.4      12.0  ...  11.514286  0.371612      11.1   \n",
      "...        ...       ...       ...  ...        ...       ...       ...   \n",
      "4815  0.452769      11.1      12.2  ...  11.585714  0.566947      11.1   \n",
      "4816  0.610737      11.1      12.4  ...  11.571429  0.540723      11.1   \n",
      "4817  0.661060      11.1      12.4  ...  11.757143  0.574042      11.1   \n",
      "4818  0.715542      11.0      12.4  ...  11.657143  0.642540      11.0   \n",
      "4819  0.756307      11.0      12.6  ...  11.714286  0.712808      11.0   \n",
      "\n",
      "      Maximum7  Fluctuation7  Hour  Minute  Second  Microsecond  Unnamed: 20  \n",
      "0         12.5           1.4     7      48      34       226037          NaN  \n",
      "1         12.0           0.9     7      48      34       326727          NaN  \n",
      "2         12.0           0.9     7      48      34       427272          NaN  \n",
      "3         12.0           0.9     7      48      34       527970          NaN  \n",
      "4         12.0           0.9     7      48      34       628777          NaN  \n",
      "...        ...           ...   ...     ...     ...          ...          ...  \n",
      "4815      12.5           1.4     7      56      39       151242          NaN  \n",
      "4816      12.4           1.3     7      56      39       252140          NaN  \n",
      "4817      12.4           1.3     7      56      39       352970          NaN  \n",
      "4818      12.4           1.4     7      56      39       453956          NaN  \n",
      "4819      12.6           1.6     7      56      39       554936          NaN  \n",
      "\n",
      "[4820 rows x 21 columns]\n",
      "      Value       Avg3    Stdev3  Minimum3  Maximum3  Fluctuation3   Avg5  \\\n",
      "4820   12.4  12.133333  0.986577      11.0      12.8           1.8  12.24   \n",
      "4821   11.5  12.600000  0.200000      12.4      12.8           0.4  12.24   \n",
      "4822   11.5  12.233333  0.665833      11.5      12.8           1.3  12.06   \n",
      "4823   11.2  11.800000  0.519615      11.5      12.4           0.9  12.16   \n",
      "4824   11.5  11.400000  0.173205      11.2      11.5           0.3  11.88   \n",
      "...     ...        ...       ...       ...       ...           ...    ...   \n",
      "6881   13.0  12.500000  0.519615      11.9      12.8           0.9  12.38   \n",
      "6882   11.8  12.566667  0.585947      11.9      13.0           1.1  12.50   \n",
      "6883   11.3  12.533333  0.642910      11.8      13.0           1.2  12.46   \n",
      "6884   11.3  12.033333  0.873689      11.3      13.0           1.7  12.16   \n",
      "6885   12.5  11.466667  0.288675      11.3      11.8           0.5  12.04   \n",
      "\n",
      "        Stdev5  Minimum5  Maximum5  ...       Avg7    Stdev7  Minimum7  \\\n",
      "4820  0.712741      11.0      12.8  ...  11.928571  0.788911      11.0   \n",
      "4821  0.712741      11.0      12.8  ...  12.114286  0.710466      11.0   \n",
      "4822  0.773305      11.0      12.8  ...  12.157143  0.652833      11.0   \n",
      "4823  0.618870      11.5      12.8  ...  12.028571  0.684871      11.0   \n",
      "4824  0.683374      11.2      12.8  ...  11.857143  0.725390      11.0   \n",
      "...        ...       ...       ...  ...        ...       ...       ...   \n",
      "6881  0.426615      11.9      12.8  ...  12.142857  0.553345      11.3   \n",
      "6882  0.509902      11.9      13.0  ...  12.314286  0.612178      11.3   \n",
      "6883  0.563915      11.8      13.0  ...  12.385714  0.491354      11.8   \n",
      "6884  0.716240      11.3      13.0  ...  12.228571  0.639568      11.3   \n",
      "6885  0.814248      11.3      13.0  ...  12.128571  0.729644      11.3   \n",
      "\n",
      "      Maximum7  Fluctuation7  Hour  Minute  Second  Microsecond  Unnamed: 20  \n",
      "4820      12.8           1.8     7      56      39       655726          NaN  \n",
      "4821      12.8           1.8     7      56      39       756428          NaN  \n",
      "4822      12.8           1.8     7      56      39       857383          NaN  \n",
      "4823      12.8           1.8     7      56      39       958205          NaN  \n",
      "4824      12.8           1.8     7      56      40        58951          NaN  \n",
      "...        ...           ...   ...     ...     ...          ...          ...  \n",
      "6881      12.8           1.5     8       0       7       204715          NaN  \n",
      "6882      13.0           1.7     8       0       7       305414          NaN  \n",
      "6883      13.0           1.2     8       0       7       406250          NaN  \n",
      "6884      13.0           1.7     8       0       7       506779          NaN  \n",
      "6885      13.0           1.7     8       0       7       607320          NaN  \n",
      "\n",
      "[2066 rows x 21 columns]\n"
     ]
    }
   ],
   "source": [
    "import pandas as pd\n",
    "import numpy as np\n",
    "import matplotlib.pyplot as plt\n",
    "from sklearn.linear_model import LogisticRegression, LinearRegression\n",
    "from sklearn.metrics import accuracy_score\n",
    "from sklearn.model_selection import train_test_split \n",
    "from sklearn.metrics import roc_curve, auc\n",
    "from sklearn.model_selection import cross_val_score\n",
    "from sklearn.ensemble import RandomForestRegressor\n",
    "from sklearn import metrics\n",
    "\n",
    "\n",
    "odasdf = pd.read_csv(\"//Users/rbalbuen/Desktop/odasrepo2/tlm-data/train/generated/engineered/Battery1_telemetryOutputData_2020_02_05_15_48_33.csv\", skiprows=[i for i in range(1,8)])\n",
    "num_rows= odasdf.shape[0]\n",
    "print(num_rows)\n",
    "\n",
    "splitdf= num_rows*0.70\n",
    "print(splitdf)\n",
    "train_data = odasdf.iloc[:int(splitdf)]\n",
    "test_data = odasdf.iloc[int(splitdf):]\n",
    "print(train_data)\n",
    "print(test_data)"
   ]
  },
  {
   "cell_type": "code",
   "execution_count": 60,
   "metadata": {},
   "outputs": [],
   "source": [
    "feature_cols = ['Avg3',\n",
    " 'Stdev3',\n",
    " 'Minimum3',\n",
    " 'Maximum3',\n",
    " 'Fluctuation3',\n",
    " 'Avg5',\n",
    " 'Stdev5',\n",
    " 'Minimum5',\n",
    " 'Maximum5',\n",
    " 'Fluctuation5',\n",
    " 'Avg7',\n",
    " 'Stdev7',\n",
    " 'Minimum7',\n",
    " 'Maximum7',\n",
    " 'Fluctuation7',\n",
    " 'Hour',\n",
    " 'Minute',\n",
    " 'Second',\n",
    " 'Microsecond']\n",
    "X_train = train_data[feature_cols]\n",
    "y_train = train_data['Value']\n",
    "X_test = test_data[feature_cols]\n",
    "y_test = test_data['Value']\n"
   ]
  },
  {
   "cell_type": "code",
   "execution_count": 61,
   "metadata": {},
   "outputs": [],
   "source": [
    "# X_train['Avg3'] = X_train['Avg3'].values + [2]\n",
    "# temp = pd.DataFrame({'Avg3':[2]})\n",
    "# temp.head()\n",
    "# X_train.append(temp,ignore_index=True)\n"
   ]
  },
  {
   "cell_type": "code",
   "execution_count": 62,
   "metadata": {},
   "outputs": [
    {
     "name": "stdout",
     "output_type": "stream",
     "text": [
      "[12.0043714  11.99644292 12.00530574 ... 11.9563483  11.96354068\n",
      " 11.98870401]\n",
      "Root mean square error value is:  0.5837528396099121\n"
     ]
    }
   ],
   "source": [
    "\n",
    "rfreg =  RandomForestRegressor(max_depth=2, random_state=0)\n",
    "rfreg.fit(X_train, y_train)\n",
    "y_predict_rf = rfreg.predict(X_test)\n",
    "print(y_predict_rf)\n",
    "mse = metrics.mean_squared_error(y_test, y_predict_rf)\n",
    "rmse = np.sqrt(mse)\n",
    "\n",
    "print('Root mean square error value is: ', rmse)\n",
    "\n"
   ]
  },
  {
   "cell_type": "code",
   "execution_count": 63,
   "metadata": {},
   "outputs": [],
   "source": [
    "# mse_list = cross_val_score(rfreg, X, y, cv=10, scoring='neg_mean_squared_error')\n",
    "\n",
    "# mse_list_positive = -mse_list\n",
    "# rmse_list = np.sqrt(mse_list_positive)\n",
    "# print(rmse_list)\n",
    "# print('RMSE list mean is: ' , rmse_list.mean())"
   ]
  },
  {
   "cell_type": "code",
   "execution_count": 64,
   "metadata": {},
   "outputs": [],
   "source": [
    "# X_test2 = X_test.iloc[[ -1]]\n",
    "# X_test2.head()"
   ]
  },
  {
   "cell_type": "code",
   "execution_count": 65,
   "metadata": {},
   "outputs": [
    {
     "name": "stdout",
     "output_type": "stream",
     "text": [
      "    Actual  Predicted\n",
      "0     12.4  12.004371\n",
      "1     11.5  11.996443\n",
      "2     11.5  12.005306\n",
      "3     11.2  11.966015\n",
      "4     11.5  11.983800\n",
      "5     12.2  11.967257\n",
      "6     11.1  11.971460\n",
      "7     11.1  11.953691\n",
      "8     12.5  11.957126\n",
      "9     12.0  11.984571\n",
      "10    11.4  11.994652\n",
      "11    11.7  11.980739\n",
      "12    11.7  11.981144\n",
      "13    12.5  11.947164\n",
      "14    12.5  11.966019\n",
      "15    11.5  11.963770\n",
      "16    12.4  11.964091\n",
      "17    11.2  11.964091\n",
      "18    12.8  11.973993\n",
      "19    12.4  11.992759\n",
      "20    11.7  11.989333\n",
      "21    11.1  11.989849\n",
      "22    11.0  11.993626\n",
      "23    12.7  11.987566\n",
      "24    11.1  12.004627\n",
      "25    11.1  11.996196\n",
      "26    11.7  11.983478\n",
      "27    11.6  11.970625\n",
      "28    11.7  11.990966\n",
      "29    12.4  11.950380\n",
      "30    11.4  11.973708\n",
      "31    11.3  11.967985\n",
      "32    11.0  11.970840\n",
      "33    12.1  11.931212\n",
      "34    12.8  11.979466\n",
      "35    12.8  12.004272\n",
      "36    11.4  12.002069\n",
      "37    11.2  12.006249\n",
      "38    11.2  11.994488\n",
      "39    12.4  11.992125\n",
      "40    11.9  11.994629\n",
      "41    11.9  11.978995\n",
      "42    12.2  11.974750\n",
      "43    12.4  11.919585\n",
      "44    12.3  11.963628\n",
      "45    12.3  11.966396\n",
      "46    11.6  11.988491\n",
      "47    12.9  11.971977\n",
      "48    12.3  11.950626\n",
      "49    11.4  11.953670\n"
     ]
    }
   ],
   "source": [
    "actualpreddf = pd.DataFrame({'Actual': y_test.values.flatten(), 'Predicted': y_predict_rf.flatten()})\n",
    "print(actualpreddf.head(50))"
   ]
  },
  {
   "cell_type": "code",
   "execution_count": 66,
   "metadata": {},
   "outputs": [
    {
     "data": {
      "image/png": "[encoded data removed]",
      "text/plain": [
       "<Figure size 432x288 with 1 Axes>"
      ]
     },
     "metadata": {
      "needs_background": "light"
     },
     "output_type": "display_data"
    }
   ],
   "source": [
    "import matplotlib.pyplot as plt\n",
    "%matplotlib inline\n",
    "plt.figure()\n",
    "\n",
    "plt.plot(y_predict_rf, color='red', lw=2,label='y predicted values')\n",
    "\n",
    "plt.plot(y_test, color='blue', lw=2, linestyle='--',label='y test values')\n",
    "\n",
    "plt.xlim([0, 5000])\n",
    "plt.ylim([11, 13])\n",
    "\n",
    "plt.xlabel('Data Size')\n",
    "plt.ylabel('Values')\n",
    "plt.title('Actual and predicted')\n",
    "plt.legend(loc=\"lower right\")\n",
    "\n",
    "plt.show()"
   ]
  },
  {
   "cell_type": "code",
   "execution_count": null,
   "metadata": {},
   "outputs": [],
   "source": []
  },
  {
   "cell_type": "code",
   "execution_count": null,
   "metadata": {},
   "outputs": [],
   "source": []
  },
  {
   "cell_type": "code",
   "execution_count": null,
   "metadata": {},
   "outputs": [],
   "source": []
  }
 ],
 "metadata": {
  "kernelspec": {
   "display_name": "Python 3",
   "language": "python",
   "name": "python3"
  },
  "language_info": {
   "codemirror_mode": {
    "name": "ipython",
    "version": 3
   },
   "file_extension": ".py",
   "mimetype": "text/x-python",
   "name": "python",
   "nbconvert_exporter": "python",
   "pygments_lexer": "ipython3",
   "version": "3.7.3"
  }
 },
 "nbformat": 4,
 "nbformat_minor": 4
}
