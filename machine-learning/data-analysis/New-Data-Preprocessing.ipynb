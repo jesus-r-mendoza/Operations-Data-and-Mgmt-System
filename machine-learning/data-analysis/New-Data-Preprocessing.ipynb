{
 "cells": [
  {
   "cell_type": "markdown",
   "metadata": {},
   "source": [
    "# Initial Data Preprocessing using new Data"
   ]
  },
  {
   "cell_type": "code",
   "execution_count": 1,
   "metadata": {},
   "outputs": [],
   "source": [
    "import os\n",
    "import pandas as pd\n",
    "import matplotlib.pyplot as plt"
   ]
  },
  {
   "cell_type": "code",
   "execution_count": 2,
   "metadata": {},
   "outputs": [
    {
     "name": "stdout",
     "output_type": "stream",
     "text": [
      "Battery1_telemetryOutputData_2020_02_05_15_48_33.csv\n",
      "Battery2_telemetryOutputData_2020_02_05_15_48_33.csv\n",
      "CmdRcv_telemetryOutputData_2020_02_05_15_48_33.csv\n",
      "RSSI1_telemetryOutputData_2020_02_05_15_48_33.csv\n",
      "RSSI2_telemetryOutputData_2020_02_05_15_48_33.csv\n",
      "TlmTx_telemetryOutputData_2020_02_05_15_48_33.csv\n"
     ]
    }
   ],
   "source": [
    "basedir = '../../../tlm-data/'\n",
    "data_files = []\n",
    "with os.scandir(basedir) as dir:\n",
    "    for item in dir:\n",
    "        if item.is_file() and item.name[-4:] == '.csv':\n",
    "            data_files.append(item.name)\n",
    "            \n",
    "print(*data_files, sep='\\n')"
   ]
  },
  {
   "cell_type": "code",
   "execution_count": 3,
   "metadata": {},
   "outputs": [],
   "source": [
    "def process_file(data_file):\n",
    "    values, nanos = [], []\n",
    "    with open(f'{basedir}{data_file}') as data_csv:\n",
    "        lines = [ x[:-1] for x in  data_csv.readlines() ]\n",
    "        for line in lines[1:]:\n",
    "            parts = line.split(',')\n",
    "            if len(parts) < 4:\n",
    "                continue\n",
    "            _, val, time, _ = line.split(',')\n",
    "            values.append(val)\n",
    "            nanos.append(time)\n",
    "            \n",
    "    return values, nanos"
   ]
  },
  {
   "cell_type": "code",
   "execution_count": 7,
   "metadata": {},
   "outputs": [
    {
     "name": "stdout",
     "output_type": "stream",
     "text": [
      "690 690\n"
     ]
    },
    {
     "data": {
      "text/plain": [
       "<matplotlib.collections.PathCollection at 0x18ccd28a518>"
      ]
     },
     "execution_count": 7,
     "metadata": {},
     "output_type": "execute_result"
    },
    {
     "data": {
      "image/png": "[encoded data removed]",
      "text/plain": [
       "<Figure size 432x288 with 1 Axes>"
      ]
     },
     "metadata": {
      "needs_background": "light"
     },
     "output_type": "display_data"
    }
   ],
   "source": [
    "vals, time = process_file(data_files[0])\n",
    "print(len(vals[0::10]), len(time[0::10]))\n",
    "plt.scatter(time[0::100], vals[0::100])"
   ]
  },
  {
   "cell_type": "code",
   "execution_count": null,
   "metadata": {},
   "outputs": [],
   "source": []
  }
 ],
 "metadata": {
  "kernelspec": {
   "display_name": "Python 3",
   "language": "python",
   "name": "python3"
  },
  "language_info": {
   "codemirror_mode": {
    "name": "ipython",
    "version": 3
   },
   "file_extension": ".py",
   "mimetype": "text/x-python",
   "name": "python",
   "nbconvert_exporter": "python",
   "pygments_lexer": "ipython3",
   "version": "3.7.1"
  }
 },
 "nbformat": 4,
 "nbformat_minor": 2
}
